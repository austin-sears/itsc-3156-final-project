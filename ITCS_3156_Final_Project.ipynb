{
  "nbformat": 4,
  "nbformat_minor": 0,
  "metadata": {
    "colab": {
      "provenance": []
    },
    "kernelspec": {
      "name": "python3",
      "display_name": "Python 3"
    },
    "language_info": {
      "name": "python"
    }
  },
  "cells": [
    {
      "cell_type": "markdown",
      "source": [
        "## Name: Austin Sears\n",
        "## Project Title:\n",
        "## Date: 11 December, 2024"
      ],
      "metadata": {
        "id": "KSEvYbPL56u4"
      }
    },
    {
      "cell_type": "markdown",
      "source": [
        "## I. Imports"
      ],
      "metadata": {
        "id": "khf4pyH66J5V"
      }
    },
    {
      "cell_type": "code",
      "execution_count": null,
      "metadata": {
        "id": "WF3b5UxZ5QQb"
      },
      "outputs": [],
      "source": [
        "import pandas as pd\n",
        "import matplotlib.pyplot as plt\n",
        "import seaborn as sns\n",
        "import numpy as np"
      ]
    },
    {
      "cell_type": "markdown",
      "source": [
        "II. Load Dataset"
      ],
      "metadata": {
        "id": "U_8EvO0r6NEp"
      }
    },
    {
      "cell_type": "code",
      "source": [],
      "metadata": {
        "id": "7Qp2hRMt6Pzu"
      },
      "execution_count": null,
      "outputs": []
    }
  ]
}